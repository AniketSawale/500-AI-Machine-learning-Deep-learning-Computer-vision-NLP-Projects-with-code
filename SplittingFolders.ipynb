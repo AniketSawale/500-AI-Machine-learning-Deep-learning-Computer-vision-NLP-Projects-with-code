{
  "nbformat": 4,
  "nbformat_minor": 0,
  "metadata": {
    "colab": {
      "name": "SplittingFolders.ipynb",
      "provenance": [],
      "collapsed_sections": [],
      "machine_shape": "hm",
      "authorship_tag": "ABX9TyMNeTzWA0Qv4BVgcCGny7Ae",
      "include_colab_link": true
    },
    "kernelspec": {
      "name": "python3",
      "display_name": "Python 3"
    }
  },
  "cells": [
    {
      "cell_type": "markdown",
      "metadata": {
        "id": "view-in-github",
        "colab_type": "text"
      },
      "source": [
        "<a href=\"https://colab.research.google.com/github/AniketSawale/500-AI-Machine-learning-Deep-learning-Computer-vision-NLP-Projects-with-code/blob/main/SplittingFolders.ipynb\" target=\"_parent\"><img src=\"https://colab.research.google.com/assets/colab-badge.svg\" alt=\"Open In Colab\"/></a>"
      ]
    },
    {
      "cell_type": "code",
      "metadata": {
        "id": "G5CELFGgY_W_",
        "colab": {
          "base_uri": "https://localhost:8080/",
          "height": 122
        },
        "outputId": "0e6a18dd-e767-464b-bd9a-0cff7c2c6397"
      },
      "source": [
        "from google.colab import drive\n",
        "drive.mount('/content/drive')"
      ],
      "execution_count": null,
      "outputs": [
        {
          "output_type": "stream",
          "text": [
            "Go to this URL in a browser: https://accounts.google.com/o/oauth2/auth?client_id=947318989803-6bn6qk8qdgf4n4g3pfee6491hc0brc4i.apps.googleusercontent.com&redirect_uri=urn%3aietf%3awg%3aoauth%3a2.0%3aoob&response_type=code&scope=email%20https%3a%2f%2fwww.googleapis.com%2fauth%2fdocs.test%20https%3a%2f%2fwww.googleapis.com%2fauth%2fdrive%20https%3a%2f%2fwww.googleapis.com%2fauth%2fdrive.photos.readonly%20https%3a%2f%2fwww.googleapis.com%2fauth%2fpeopleapi.readonly\n",
            "\n",
            "Enter your authorization code:\n",
            "··········\n",
            "Mounted at /content/drive\n"
          ],
          "name": "stdout"
        }
      ]
    },
    {
      "cell_type": "code",
      "metadata": {
        "id": "ouU07WjocDZW"
      },
      "source": [
        "import os\n",
        "import numpy as np\n",
        "import shutil\n",
        "import random"
      ],
      "execution_count": null,
      "outputs": []
    },
    {
      "cell_type": "code",
      "metadata": {
        "id": "TGLxdg9VcefN"
      },
      "source": [
        "root_dir = \"/content/drive/My Drive/curetDataSet/CURET_TEXTURE/\""
      ],
      "execution_count": null,
      "outputs": []
    },
    {
      "cell_type": "code",
      "metadata": {
        "id": "jWYmQBfHtBl9"
      },
      "source": [
        "test_dir = \"/content/drive/My Drive/curetDataSet/Test/\""
      ],
      "execution_count": null,
      "outputs": []
    },
    {
      "cell_type": "code",
      "metadata": {
        "id": "_v7PkULatNpe"
      },
      "source": [
        "files = os.listdir(root_dir)"
      ],
      "execution_count": null,
      "outputs": []
    },
    {
      "cell_type": "code",
      "metadata": {
        "id": "eE5uWpKWtTWF"
      },
      "source": [
        "for f in files:\n",
        "  if np.random.rand(1) < 0.05:\n",
        "    shutil.move(root_dir + '/'+ f, test_dir + '/'+ f)"
      ],
      "execution_count": null,
      "outputs": []
    },
    {
      "cell_type": "code",
      "metadata": {
        "id": "MFPBkz5VFFFY"
      },
      "source": [
        "train_dir = \"/content/drive/My Drive/curetDataSet/Train/\""
      ],
      "execution_count": null,
      "outputs": []
    },
    {
      "cell_type": "code",
      "metadata": {
        "id": "Gsp8kNoSFSSW"
      },
      "source": [
        "valid_dir = \"/content/drive/My Drive/curetDataSet/Valid/\""
      ],
      "execution_count": null,
      "outputs": []
    },
    {
      "cell_type": "code",
      "metadata": {
        "id": "zdFWG2NUcvfi"
      },
      "source": [
        "classes_dir = [\"01\",\n",
        "\"02\",\n",
        "\"03\",\n",
        "\"04\",\n",
        "\"05\",\n",
        "\"06\",\n",
        "\"07\",\n",
        "\"08\",\n",
        "\"09\",\n",
        "\"10\",\n",
        "\"11\",\n",
        "\"12\",\n",
        "\"13\",\n",
        "\"14\",\n",
        "\"15\",\n",
        "\"16\",\n",
        "\"17\",\n",
        "\"18\",\n",
        "\"19\",\n",
        "\"21\",\n",
        "\"22\",\n",
        "\"23\",\n",
        "\"24\",\n",
        "\"25\",\n",
        "\"26\",\n",
        "\"27\",\n",
        "\"28\",\n",
        "\"29\",\n",
        "\"30\",\n",
        "\"31\",\n",
        "\"32\",\n",
        "\"33\",\n",
        "\"34\",\n",
        "\"35\",\n",
        "\"36\",\n",
        "\"37\",\n",
        "\"38\",\n",
        "\"39\",\n",
        "\"40\",\n",
        "\"41\",\n",
        "\"42\",\n",
        "\"43\",\n",
        "\"44\",\n",
        "\"45\",\n",
        "\"46\",\n",
        "\"47\",\n",
        "\"48\",\n",
        "\"49\",\n",
        "\"50\",\n",
        "\"51\",\n",
        "\"52\",\n",
        "\"53\",\n",
        "\"54\",\n",
        "\"55\",\n",
        "\"56\",\n",
        "\"57\",\n",
        "\"58\",\n",
        "\"59\",\n",
        "\"60\",\n",
        "\"61\"\n",
        "               ]"
      ],
      "execution_count": null,
      "outputs": []
    },
    {
      "cell_type": "code",
      "metadata": {
        "id": "5g-niKqVd6Wh"
      },
      "source": [
        "val_ratio = 0.15\n",
        "test_ratio = 0.05"
      ],
      "execution_count": null,
      "outputs": []
    },
    {
      "cell_type": "code",
      "metadata": {
        "id": "wGzQdwPse42g"
      },
      "source": [
        "for cls in classes_dir:\n",
        "  os.makedirs(train_dir + cls)\n",
        "  os.makedirs(valid_dir + cls)\n",
        "  os.makedirs(test_dir + cls)\n",
        "\n",
        "  src = root_dir + cls\n",
        "\n",
        "  allFileNames = os.listdir(src)\n",
        "  np.random.shuffle(allFileNames)\n",
        "  train_FileNames, val_FileNames, test_FileNames = np.split(np.array(allFileNames),\n",
        "                                                            [int(len(allFileNames)* (1 - val_ratio + test_ratio)),\n",
        "                                                             int(len(allFileNames)* (1 - test_ratio))]\n",
        "                                                            )\n",
        "  train_FileNames = [src+'/'+ name for name in train_FileNames.tolist()]\n",
        "  val_FileNames = [src + '/' + name for name in val_FileNames.tolist()]\n",
        "  test_FileNames = [src + '/' + name for name in test_FileNames.tolist()]\n",
        "\n",
        "  for name in train_FileNames:\n",
        "    shutil.copy(name, train_dir + cls)\n",
        "\n",
        "  for name in val_FileNames:\n",
        "    shutil.copy(name, valid_dir + cls)\n",
        "\n",
        "  for name in test_FileNames:\n",
        "    shutil.copy(name, test_dir + cls)"
      ],
      "execution_count": null,
      "outputs": []
    }
  ]
}